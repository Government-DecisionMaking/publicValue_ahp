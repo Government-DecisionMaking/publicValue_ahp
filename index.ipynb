{
 "cells": [
  {
   "cell_type": "markdown",
   "id": "e94c1246",
   "metadata": {},
   "source": [
    "<center><img src=\"https://github.com/Government-DecisionMaking/publicValue_ahp/blob/main/logo.jpg?raw=true\" width=\"900\"/></center>\n",
    "\n",
    "_____\n",
    "<a id='home'></a>\n",
    "\n",
    "\n",
    "# Multicriteria Decision-Making (AHP)\n"
   ]
  },
  {
   "cell_type": "code",
   "execution_count": 1,
   "id": "4bf5038e-daec-4f81-a2dd-afe31322f7e3",
   "metadata": {},
   "outputs": [
    {
     "data": {
      "text/html": [
       "<iframe src=\"https://docs.google.com/presentation/d/e/2PACX-1vT3lc97qO2QHlO2LGcxt88QpDFMPY68KH12TX6AGgB-Xv9TddeD5E9iOGYenrK8mpMoSdjfoH5LdCyW/pubembed?start=false&loop=false&delayms=3000\" frameborder=\"0\" width=\"960\" height=\"569\" allowfullscreen=\"true\" mozallowfullscreen=\"true\" webkitallowfullscreen=\"true\"></iframe>\n"
      ],
      "text/plain": [
       "<IPython.core.display.HTML object>"
      ]
     },
     "metadata": {},
     "output_type": "display_data"
    }
   ],
   "source": [
    "%%html\n",
    "<iframe src=\"https://docs.google.com/presentation/d/e/2PACX-1vT3lc97qO2QHlO2LGcxt88QpDFMPY68KH12TX6AGgB-Xv9TddeD5E9iOGYenrK8mpMoSdjfoH5LdCyW/pubembed?start=false&loop=false&delayms=3000\" frameborder=\"0\" width=\"960\" height=\"569\" allowfullscreen=\"true\" mozallowfullscreen=\"true\" webkitallowfullscreen=\"true\"></iframe>"
   ]
  },
  {
   "cell_type": "markdown",
   "id": "a0717b92-b145-4499-baad-fa95a1a755cf",
   "metadata": {},
   "source": [
    "## AHP in Python\n",
    "\n",
    "# The Comparissons\n",
    "\n",
    "\n",
    "1. Prepare data file with the comparissons: You will use an excel file for this. In this step, you and the other decision makers will make pairwise comparissons for:\n",
    "   \n",
    "a. The alternatives for each criterion.\n",
    "\n",
    "b. The criteria themselves.\n",
    "\n",
    "I have prepared a GoogleSheets file, which looks like this:"
   ]
  },
  {
   "cell_type": "code",
   "execution_count": 2,
   "id": "227c2b77-cc4e-4437-b7bc-c522b22168d8",
   "metadata": {},
   "outputs": [
    {
     "data": {
      "text/html": [
       "<iframe src=\"https://docs.google.com/spreadsheets/d/e/2PACX-1vQZiYnm5fKCIHCZR4yOqM8z9yPbgWfXRHwwfqdzOeHt67BO1-_20bGoUXeuKT2hG9kzsZXPJX6P1xdj/pubhtml?widget=true&amp;headers=false\" width=\"600\" height=\"300\"></iframe>\n"
      ],
      "text/plain": [
       "<IPython.core.display.HTML object>"
      ]
     },
     "metadata": {},
     "output_type": "display_data"
    }
   ],
   "source": [
    "%%html\n",
    "<iframe src=\"https://docs.google.com/spreadsheets/d/e/2PACX-1vQZiYnm5fKCIHCZR4yOqM8z9yPbgWfXRHwwfqdzOeHt67BO1-_20bGoUXeuKT2hG9kzsZXPJX6P1xdj/pubhtml?widget=true&amp;headers=false\" width=\"600\" height=\"300\"></iframe>"
   ]
  },
  {
   "cell_type": "markdown",
   "id": "88dd6958-44bd-4e33-9e4e-9bfe715fe504",
   "metadata": {},
   "source": [
    "Notice: \n",
    "\n",
    "1. each 'sol' belongs to a member of the group.\n",
    "2. each 'sol' is compared to another, under a particular criterion.\n",
    "3. The criteria also compare between one another.\n",
    "4. Use the same case always (lower/upper). NO spaces, no characters beyond alphabet."
   ]
  },
  {
   "cell_type": "markdown",
   "id": "52def875-21cf-4270-a9b2-d61aed9fc025",
   "metadata": {},
   "source": [
    "2. Get the data into Python\n",
    "\n",
    "YOU ONLY PROVIDE THE LINK to your pairwise comparissons. Let me get the link to that GoogleSheet file as an **Excel** file:"
   ]
  },
  {
   "cell_type": "code",
   "execution_count": 3,
   "id": "5afba538-ee4e-4a1b-9573-22dcbb177db5",
   "metadata": {},
   "outputs": [],
   "source": [
    "# you will use your own link later\n",
    "linkGoogle='https://docs.google.com/spreadsheets/d/e/2PACX-1vQZiYnm5fKCIHCZR4yOqM8z9yPbgWfXRHwwfqdzOeHt67BO1-_20bGoUXeuKT2hG9kzsZXPJX6P1xdj/pub?output=xlsx'\n",
    "\n",
    "# get the data tables\n",
    "import pandas as pd\n",
    "myFile = pd.ExcelFile(linkGoogle)\n",
    "allComparissons={sheet:pd.read_excel(myFile, sheet, index_col=0)for sheet in myFile.sheet_names}\n",
    "\n",
    "# format the data for AHP\n",
    "import networkx as nx\n",
    "import numpy as np\n",
    "\n",
    "comparissonsDict=dict()\n",
    "for sheet in myFile.sheet_names:\n",
    "  aMatrix = nx.from_pandas_adjacency(allComparissons[sheet],create_using=nx.MultiDiGraph())\n",
    "  aDict={(e[0],e[1]):e[2]['weight'] for e in aMatrix.edges(data=True) if np.isfinite(e[2]['weight'])}\n",
    "  comparissonsDict.update({sheet:aDict})\n",
    "\n",
    "# use AHP\n",
    "import ahpy\n",
    "\n",
    "# create all comparissons\n",
    "AHP_Dict=dict()\n",
    "for sheet in myFile.sheet_names:\n",
    "  AHP_Dict.update({sheet:ahpy.Compare(sheet, comparissonsDict[sheet], precision=3, random_index='saaty')})\n",
    "\n",
    "# comparisson of alternatives below criteria (hierarchy building\n",
    "AHP_Dict['criteria'].add_children([ahp for sheet,ahp in AHP_Dict.items() if sheet!='criteria'])"
   ]
  },
  {
   "cell_type": "markdown",
   "id": "abeb487d-f786-43d7-9bb7-537def11f9ac",
   "metadata": {},
   "source": [
    "We can see which criterion was more valuable like this:"
   ]
  },
  {
   "cell_type": "code",
   "execution_count": 4,
   "id": "94c0868c-4cb8-4c5a-b5b0-9a021cea9899",
   "metadata": {},
   "outputs": [
    {
     "name": "stdout",
     "output_type": "stream",
     "text": [
      "{'cultural': 0.548, 'strategical': 0.27, 'institutional': 0.127, 'rational': 0.056}\n"
     ]
    }
   ],
   "source": [
    "print(AHP_Dict['criteria'].global_weights)"
   ]
  },
  {
   "cell_type": "markdown",
   "id": "a52aea13-35c5-435f-ae6d-39efbc9837bf",
   "metadata": {},
   "source": [
    "Now, you may know which is the best option:"
   ]
  },
  {
   "cell_type": "code",
   "execution_count": 5,
   "id": "682cd65e-d81a-41f1-a16d-7bc8e8e40b6e",
   "metadata": {},
   "outputs": [
    {
     "name": "stdout",
     "output_type": "stream",
     "text": [
      "{'sol2': 0.493, 'sol1': 0.358, 'sol3': 0.15}\n"
     ]
    }
   ],
   "source": [
    "print(AHP_Dict['criteria'].target_weights)"
   ]
  },
  {
   "cell_type": "markdown",
   "id": "a704404e-082e-4e35-8624-35a7ed43836a",
   "metadata": {},
   "source": [
    "The AHP algorithm assumes that when you are consistent when comparing; if get values above 0.10, you should review your comparisson matrices:"
   ]
  },
  {
   "cell_type": "code",
   "execution_count": 6,
   "id": "83e645d4-7f16-4b5b-af1c-1b03422c7242",
   "metadata": {},
   "outputs": [
    {
     "data": {
      "text/plain": [
       "{'cultural': 0.035,\n",
       " 'institutional': 0.062,\n",
       " 'strategical': 0.069,\n",
       " 'rational': 0.028,\n",
       " 'criteria': 0.044}"
      ]
     },
     "execution_count": 6,
     "metadata": {},
     "output_type": "execute_result"
    }
   ],
   "source": [
    "{AHP_Dict[sheet].name:AHP_Dict[sheet].consistency_ratio for sheet in myFile.sheet_names}"
   ]
  }
 ],
 "metadata": {
  "kernelspec": {
   "display_name": "Python 3 (ipykernel)",
   "language": "python",
   "name": "python3"
  },
  "language_info": {
   "codemirror_mode": {
    "name": "ipython",
    "version": 3
   },
   "file_extension": ".py",
   "mimetype": "text/x-python",
   "name": "python",
   "nbconvert_exporter": "python",
   "pygments_lexer": "ipython3",
   "version": "3.10.16"
  }
 },
 "nbformat": 4,
 "nbformat_minor": 5
}
