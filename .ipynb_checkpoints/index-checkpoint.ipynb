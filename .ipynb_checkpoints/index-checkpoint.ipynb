{
 "cells": [
  {
   "cell_type": "markdown",
   "id": "e94c1246",
   "metadata": {},
   "source": [
    "<center><img src=\"https://github.com/DACSS-CSSmeths/guidelines/blob/main/pics/small_logo_ccs_meths.jpg?raw=true\" width=\"700\"/></center>\n",
    "\n",
    "_____\n",
    "<a id='home'></a>\n",
    "\n",
    "\n",
    "# Introduction to Optimization for Decision Making\n"
   ]
  },
  {
   "cell_type": "markdown",
   "id": "2478f1d7-aa1c-4e6c-b404-d7faf01ab371",
   "metadata": {},
   "source": [
    "# Part 2: Multicriteria Decision-Making"
   ]
  },
  {
   "cell_type": "code",
   "execution_count": null,
   "id": "4bf5038e-daec-4f81-a2dd-afe31322f7e3",
   "metadata": {},
   "outputs": [],
   "source": [
    "%%html\n",
    "<iframe src=\"https://docs.google.com/presentation/d/e/2PACX-1vR_rRFAM3dbRH8R_Hbme-LmSGUxL_tDmy7BiHCUvtc_2r_lvwO8cFrjMVYXbrV6Nw5XbkE3X2iLMXui/embed?start=false&loop=false&delayms=3000\" frameborder=\"0\" width=\"960\" height=\"569\" allowfullscreen=\"true\" mozallowfullscreen=\"true\" webkitallowfullscreen=\"true\"></iframe>"
   ]
  },
  {
   "cell_type": "markdown",
   "id": "a0717b92-b145-4499-baad-fa95a1a755cf",
   "metadata": {},
   "source": [
    "## AHP in Python\n",
    "\n",
    "# The Comparissons\n",
    "\n",
    "\n",
    "1. Prepare data file with the comparissons: You will use an excel file for this. In this step, you and the other decision makers will make pairwise comparissons for:\n",
    "   \n",
    "a. The alternatives for each criterion.\n",
    "\n",
    "b. The criteria themselves.\n",
    "\n",
    "I have prepared a GoogleSheets file, which looks like this:"
   ]
  },
  {
   "cell_type": "code",
   "execution_count": null,
   "id": "227c2b77-cc4e-4437-b7bc-c522b22168d8",
   "metadata": {},
   "outputs": [],
   "source": [
    "%%html\n",
    "<iframe src=\"https://docs.google.com/spreadsheets/d/e/2PACX-1vQ5AXaOjU61DouEw_C1pFo6gyxTd_UCNGBHoX0JI6D4X9xt_aHKCTnVX-WtxLt8z2iW8-GePQTqFVXK/pubhtml?widget=true&amp;headers=false\" width=\"600\" height=\"300\"></iframe>\n"
   ]
  },
  {
   "cell_type": "markdown",
   "id": "88dd6958-44bd-4e33-9e4e-9bfe715fe504",
   "metadata": {},
   "source": [
    "Notice each sheet is a criterion, and the label of the sheet is a criterion written in **lower case**; then, the criteria sheet must use lower case in the table labels. It needs not be lower case, but whatever case you use has to be same accross all labels."
   ]
  },
  {
   "cell_type": "markdown",
   "id": "52def875-21cf-4270-a9b2-d61aed9fc025",
   "metadata": {},
   "source": [
    "2. Get the data into Python\n",
    "\n",
    "Let me get the link to that GoogleSheet file as an Excel file:"
   ]
  },
  {
   "cell_type": "code",
   "execution_count": null,
   "id": "5afba538-ee4e-4a1b-9573-22dcbb177db5",
   "metadata": {},
   "outputs": [],
   "source": [
    "# the link to the data\n",
    "\n",
    "linkGoogle='https://docs.google.com/spreadsheets/d/e/2PACX-1vQ5AXaOjU61DouEw_C1pFo6gyxTd_UCNGBHoX0JI6D4X9xt_aHKCTnVX-WtxLt8z2iW8-GePQTqFVXK/pub?output=xlsx'# the link to the data"
   ]
  },
  {
   "cell_type": "markdown",
   "id": "7c73c2ca-2022-42e9-bf24-1559b215d7a9",
   "metadata": {},
   "source": [
    "3. Open each sheet:\n",
    "\n",
    "Above you have the link, but not the data yet. Let me get each comparisson sheet:"
   ]
  },
  {
   "cell_type": "code",
   "execution_count": null,
   "id": "506d30ad-4079-46fe-8d2a-1b76052c243e",
   "metadata": {},
   "outputs": [],
   "source": [
    "# this one first\n",
    "import pandas as pd\n",
    "\n",
    "pairwise_age=pd.read_excel(linkGoogle,sheet_name='age')\n",
    "pairwise_age"
   ]
  },
  {
   "cell_type": "markdown",
   "id": "e8e2d197-fae4-4f97-be8b-772cafa1e0ec",
   "metadata": {},
   "source": [
    "That table will **not** work well, we need this one:"
   ]
  },
  {
   "cell_type": "code",
   "execution_count": null,
   "id": "395cf16e-b77e-488d-8c82-cd3e618e37e9",
   "metadata": {},
   "outputs": [],
   "source": [
    "pairwise_age=pd.read_excel(linkGoogle,sheet_name='age', index_col=0) # notice\n",
    "pairwise_age"
   ]
  },
  {
   "cell_type": "markdown",
   "id": "15e2a9a3-df32-4d7a-bbc6-9991f4231889",
   "metadata": {},
   "source": [
    "Now you know how to read the rest:"
   ]
  },
  {
   "cell_type": "code",
   "execution_count": null,
   "id": "eb165cc5-95fb-499a-a6f5-9306914d7249",
   "metadata": {},
   "outputs": [],
   "source": [
    "# opening the comparissons\n",
    "pairwise_experience=pd.read_excel(linkGoogle,sheet_name='experience', index_col=0)\n",
    "pairwise_education=pd.read_excel(linkGoogle,sheet_name='education', index_col=0)\n",
    "pairwise_charisma=pd.read_excel(linkGoogle,sheet_name='charisma', index_col=0)\n",
    "pairwise_criteria=pd.read_excel(linkGoogle,sheet_name='criteria', index_col=0)"
   ]
  },
  {
   "cell_type": "markdown",
   "id": "5f775058-f007-4d9a-8655-98021ef0a1e0",
   "metadata": {},
   "source": [
    "Check the criteria, just in case:"
   ]
  },
  {
   "cell_type": "code",
   "execution_count": null,
   "id": "bb707240-1275-4408-9471-7842c7b43c85",
   "metadata": {},
   "outputs": [],
   "source": [
    "pairwise_criteria"
   ]
  },
  {
   "cell_type": "markdown",
   "id": "f6d4aa97-40d1-4076-87f6-df34959b9011",
   "metadata": {},
   "source": [
    "All the comparissons we have are in a format known as **adjacency matrix**. We saw that in the network session, so now we can use some of that."
   ]
  },
  {
   "cell_type": "markdown",
   "id": "cc2b0d2d-68f7-4f44-a016-7ade98c2edc0",
   "metadata": {},
   "source": [
    "# The Data Preparation\n",
    "\n",
    "4. Transform all adjacency matrices into pairwise comparissons:\n",
    "\n",
    "This is a just a code to make the comparissons readable in the AHP library we will use. "
   ]
  },
  {
   "cell_type": "code",
   "execution_count": null,
   "id": "7489673e-1160-4fb9-af4e-17bd6c3d47b5",
   "metadata": {},
   "outputs": [],
   "source": [
    "import networkx as nx\n",
    "\n",
    "G_age = nx.from_pandas_adjacency(pairwise_age, # just change this pairwase\n",
    "                                 create_using=nx.MultiDiGraph())\n",
    "\n",
    "# pairwise\n",
    "G_age.edges(data=True)"
   ]
  },
  {
   "cell_type": "markdown",
   "id": "4647a584-8145-4546-8cfe-b128701db61d",
   "metadata": {},
   "source": [
    "We do not need the missing values (nan), then what about:"
   ]
  },
  {
   "cell_type": "code",
   "execution_count": null,
   "id": "4a2a9fe9-b8b9-4d32-9054-f2ce0f0a81c2",
   "metadata": {},
   "outputs": [],
   "source": [
    "import numpy as np \n",
    "{(e[0],e[1]):e[2]['weight'] for e in G_age.edges(data=True) if np.isfinite(e[2]['weight'])}"
   ]
  },
  {
   "cell_type": "markdown",
   "id": "95292337-9098-4aad-9d5b-eedf331e6745",
   "metadata": {},
   "source": [
    "We wil use that code to get all the comparissons:"
   ]
  },
  {
   "cell_type": "code",
   "execution_count": null,
   "id": "91910bf0-55d1-4001-adcd-aeb255486e32",
   "metadata": {},
   "outputs": [],
   "source": [
    "\n",
    "age_comparisons ={(e[0],e[1]):e[2]['weight'] for e in G_age.edges(data=True) if np.isfinite(e[2]['weight'])}\n",
    "\n",
    "# ... and the remaining comparissons:\n",
    "G_exp = nx.from_pandas_adjacency(pairwise_experience,create_using=nx.MultiDiGraph())\n",
    "experience_comparisons={(e[0],e[1]):e[2]['weight'] for e in G_exp.edges(data=True) if np.isfinite(e[2]['weight'])}\n",
    "\n",
    "G_edu = nx.from_pandas_adjacency(pairwise_education,create_using=nx.MultiDiGraph())\n",
    "education_comparisons={(e[0],e[1]):e[2]['weight'] for e in G_edu.edges(data=True) if np.isfinite(e[2]['weight'])}\n",
    "\n",
    "G_cha = nx.from_pandas_adjacency(pairwise_charisma,create_using=nx.MultiDiGraph())\n",
    "charisma_comparisons={(e[0],e[1]):e[2]['weight'] for e in G_cha.edges(data=True) if np.isfinite(e[2]['weight'])}"
   ]
  },
  {
   "cell_type": "code",
   "execution_count": null,
   "id": "1a060b13-70ec-4121-bf45-a073435eca58",
   "metadata": {},
   "outputs": [],
   "source": [
    "# take a look\n",
    "[age_comparisons, experience_comparisons,education_comparisons,charisma_comparisons]"
   ]
  },
  {
   "cell_type": "code",
   "execution_count": null,
   "id": "c84996bc-4941-42cb-8855-54c72a6737a9",
   "metadata": {},
   "outputs": [],
   "source": [
    "# now the criteria\n",
    "\n",
    "G_CRIT = nx.from_pandas_adjacency(pairwise_criteria,create_using=nx.MultiDiGraph())\n",
    "criteria_comparisons ={(e[0],e[1]):e[2]['weight'] for e in G_CRIT.edges(data=True) if np.isfinite(e[2]['weight'])}\n",
    "criteria_comparisons"
   ]
  },
  {
   "cell_type": "markdown",
   "id": "537c0ad5-e1b0-4d49-a60c-e7a3a0d95c2d",
   "metadata": {},
   "source": [
    "# AHP\n",
    "\n",
    "\n",
    "\n",
    "5. The installation: we will install ahpy, but we also need a numpy version lower than 2.0"
   ]
  },
  {
   "cell_type": "code",
   "execution_count": null,
   "id": "69e67f1d-408e-446b-9991-0566a0aaee5b",
   "metadata": {},
   "outputs": [],
   "source": [
    "## install ONLY if you are in ANACONDA in a 3.10 environment, then restart kernel.\n",
    "## if you use BINDER, do not install neither\n",
    "## do NOT use in colab\n",
    "\n",
    "# !pip install --force-reinstall numpy==1.26.4\n",
    "# !pip install ahpy"
   ]
  },
  {
   "cell_type": "markdown",
   "id": "029fbb0d-9080-425a-a335-911dd95a77de",
   "metadata": {},
   "source": [
    "Once installed, we can call the library and use the **Compare** function:"
   ]
  },
  {
   "cell_type": "code",
   "execution_count": null,
   "id": "16ec39e8-0c5e-4803-8a05-00b354bc2133",
   "metadata": {},
   "outputs": [],
   "source": [
    "# input each comparisson\n",
    "\n",
    "import ahpy\n",
    "\n",
    "experience = ahpy.Compare('experience', experience_comparisons, random_index='saaty')\n",
    "education = ahpy.Compare('education', education_comparisons, random_index='saaty')\n",
    "charisma = ahpy.Compare('charisma', charisma_comparisons, random_index='saaty')\n",
    "age = ahpy.Compare('age', age_comparisons, random_index='saaty')\n",
    "criteria = ahpy.Compare('criteria', criteria_comparisons, random_index='saaty')"
   ]
  },
  {
   "cell_type": "markdown",
   "id": "e6ab4dfb-efc1-4940-adf9-21e2940fcb33",
   "metadata": {},
   "source": [
    "6. Create hierarchy:\n",
    "\n",
    "Remember we have the **hierarchy** Goal <- Criteria <- Alternatives. At this stage, you just need to tell which are the children of the criteria:"
   ]
  },
  {
   "cell_type": "code",
   "execution_count": null,
   "id": "645cc265-de8a-4704-a72d-9e8414738bfb",
   "metadata": {},
   "outputs": [],
   "source": [
    "criteria.add_children([experience, education, charisma, age])"
   ]
  },
  {
   "cell_type": "markdown",
   "id": "5c78aac0-2446-40f0-982e-a903e2cefd62",
   "metadata": {},
   "source": [
    "We can see which criterion was more valuable like this:"
   ]
  },
  {
   "cell_type": "code",
   "execution_count": null,
   "id": "12123239-f02d-4af0-b7f2-d930f28f3025",
   "metadata": {},
   "outputs": [],
   "source": [
    "print(criteria.global_weights)"
   ]
  },
  {
   "cell_type": "markdown",
   "id": "ebc25b0c-6a21-439e-a4da-6c8d5e50797d",
   "metadata": {},
   "source": [
    "7. See result:\n",
    "\n",
    "Now, you may know which is the best option:"
   ]
  },
  {
   "cell_type": "code",
   "execution_count": null,
   "id": "4709e721-ccb1-40c6-bf62-d05d6207c495",
   "metadata": {},
   "outputs": [],
   "source": [
    "print(criteria.target_weights)"
   ]
  },
  {
   "cell_type": "markdown",
   "id": "2dc9dcde-7d2b-4bb8-8d93-c16b73f4347b",
   "metadata": {},
   "source": [
    "8. Assess consistency\n",
    "\n",
    "The AHP algorithm assumes that when you are comparing you are consistent; but it may detect if you have been inconsistent:"
   ]
  },
  {
   "cell_type": "code",
   "execution_count": null,
   "id": "e9de4e1a-6ac0-48d9-b19f-2f335fb731be",
   "metadata": {},
   "outputs": [],
   "source": [
    "[(val.name,val.consistency_ratio) for val in [experience, education, charisma, age, criteria]]"
   ]
  },
  {
   "cell_type": "markdown",
   "id": "25d8a99d-715e-4686-9f9c-b1216d4c7812",
   "metadata": {},
   "source": [
    "We should review comparissons if you get values greater than 0.1 (so, in this case the solution holds)."
   ]
  },
  {
   "cell_type": "markdown",
   "id": "958e068c-22fc-4bd6-a4bd-47b6f9599cb2",
   "metadata": {},
   "source": [
    "## Homework #3 (option B)\n",
    "\n",
    "For the homework you need to watch this example:"
   ]
  },
  {
   "cell_type": "code",
   "execution_count": null,
   "id": "c1bee92a-d3db-49da-a376-0f18393bdc2a",
   "metadata": {},
   "outputs": [],
   "source": [
    "%%html\n",
    "<iframe width=\"560\" height=\"315\" src=\"https://www.youtube.com/embed/ChkBNabdfjo?si=Y_r-ERhUKtvNd3Oj\" title=\"YouTube video player\" frameborder=\"0\" allow=\"accelerometer; autoplay; clipboard-write; encrypted-media; gyroscope; picture-in-picture; web-share\" referrerpolicy=\"strict-origin-when-cross-origin\" allowfullscreen></iframe>\n"
   ]
  },
  {
   "cell_type": "markdown",
   "id": "a9f71b31-38f5-4798-ab00-bb69025ff9c7",
   "metadata": {},
   "source": [
    "Go to Canvas for the instructions!"
   ]
  }
 ],
 "metadata": {
  "kernelspec": {
   "display_name": "Python 3 (ipykernel)",
   "language": "python",
   "name": "python3"
  },
  "language_info": {
   "codemirror_mode": {
    "name": "ipython",
    "version": 3
   },
   "file_extension": ".py",
   "mimetype": "text/x-python",
   "name": "python",
   "nbconvert_exporter": "python",
   "pygments_lexer": "ipython3",
   "version": "3.10.16"
  }
 },
 "nbformat": 4,
 "nbformat_minor": 5
}
