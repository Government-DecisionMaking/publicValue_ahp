{
 "cells": [
  {
   "cell_type": "markdown",
   "id": "e94c1246",
   "metadata": {},
   "source": [
    "<center><img src=\"https://github.com/Government-DecisionMaking/publicValue_ahp/blob/main/logo.jpg?raw=true\" width=\"900\"/></center>\n",
    "\n",
    "_____\n",
    "<a id='home'></a>\n",
    "\n",
    "[![badge](https://img.shields.io/badge/LAUNCH_magallanes-publicValue_code-579ACA.svg?logo=data:image/png;base64,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)](https://mybinder.org/v2/git/https%3A%2F%2Fgithub.com%2FGovernment-DecisionMaking%2FpublicValue_ahp/0ba78ed98af661dffd0baa26456fa4f5af521209?urlpath=lab%2Ftree%2Findex.ipynb)\n",
    "\n",
    "# Multicriteria Decision-Making (AHP)\n"
   ]
  },
  {
   "cell_type": "code",
   "execution_count": 1,
   "id": "4bf5038e-daec-4f81-a2dd-afe31322f7e3",
   "metadata": {},
   "outputs": [
    {
     "data": {
      "text/html": [
       "<iframe src=\"https://docs.google.com/presentation/d/e/2PACX-1vT3lc97qO2QHlO2LGcxt88QpDFMPY68KH12TX6AGgB-Xv9TddeD5E9iOGYenrK8mpMoSdjfoH5LdCyW/pubembed?start=false&loop=false&delayms=3000\" frameborder=\"0\" width=\"960\" height=\"569\" allowfullscreen=\"true\" mozallowfullscreen=\"true\" webkitallowfullscreen=\"true\"></iframe>\n"
      ],
      "text/plain": [
       "<IPython.core.display.HTML object>"
      ]
     },
     "metadata": {},
     "output_type": "display_data"
    }
   ],
   "source": [
    "%%html\n",
    "<iframe src=\"https://docs.google.com/presentation/d/e/2PACX-1vT3lc97qO2QHlO2LGcxt88QpDFMPY68KH12TX6AGgB-Xv9TddeD5E9iOGYenrK8mpMoSdjfoH5LdCyW/pubembed?start=false&loop=false&delayms=3000\" frameborder=\"0\" width=\"960\" height=\"569\" allowfullscreen=\"true\" mozallowfullscreen=\"true\" webkitallowfullscreen=\"true\"></iframe>"
   ]
  },
  {
   "cell_type": "markdown",
   "id": "a0717b92-b145-4499-baad-fa95a1a755cf",
   "metadata": {},
   "source": [
    "## AHP in Python\n",
    "\n",
    "# The Comparissons\n",
    "\n",
    "\n",
    "1. Prepare data file with the comparissons: You will use an excel file for this. In this step, you and the other decision makers will make pairwise comparissons for:\n",
    "   \n",
    "a. The alternatives for each criterion.\n",
    "\n",
    "b. The criteria themselves.\n",
    "\n",
    "I have prepared a GoogleSheets file, which looks like this:"
   ]
  },
  {
   "cell_type": "code",
   "execution_count": 2,
   "id": "227c2b77-cc4e-4437-b7bc-c522b22168d8",
   "metadata": {},
   "outputs": [
    {
     "data": {
      "text/html": [
       "<iframe src=\"https://docs.google.com/spreadsheets/d/e/2PACX-1vQZiYnm5fKCIHCZR4yOqM8z9yPbgWfXRHwwfqdzOeHt67BO1-_20bGoUXeuKT2hG9kzsZXPJX6P1xdj/pubhtml?widget=true&amp;headers=false\" width=\"600\" height=\"300\"></iframe>\n"
      ],
      "text/plain": [
       "<IPython.core.display.HTML object>"
      ]
     },
     "metadata": {},
     "output_type": "display_data"
    }
   ],
   "source": [
    "%%html\n",
    "<iframe src=\"https://docs.google.com/spreadsheets/d/e/2PACX-1vQZiYnm5fKCIHCZR4yOqM8z9yPbgWfXRHwwfqdzOeHt67BO1-_20bGoUXeuKT2hG9kzsZXPJX6P1xdj/pubhtml?widget=true&amp;headers=false\" width=\"600\" height=\"300\"></iframe>"
   ]
  },
  {
   "cell_type": "markdown",
   "id": "88dd6958-44bd-4e33-9e4e-9bfe715fe504",
   "metadata": {},
   "source": [
    "Notice: \n",
    "\n",
    "1. each 'sol' belongs to a member of the group.\n",
    "2. each 'sol' is compared to another, under a particular criterion.\n",
    "3. The criteria also compare between one another.\n",
    "4. Use the same case always (lower/upper). NO spaces, no characters beyond alphabet."
   ]
  },
  {
   "cell_type": "markdown",
   "id": "52def875-21cf-4270-a9b2-d61aed9fc025",
   "metadata": {},
   "source": [
    "2. Get the data into Python\n",
    "\n",
    "YOU ONLY PROVIDE THE LINK to your pairwise comparissons. Let me get the link to that GoogleSheet file as an **Excel** file:"
   ]
  },
  {
   "cell_type": "code",
   "execution_count": null,
   "id": "5afba538-ee4e-4a1b-9573-22dcbb177db5",
   "metadata": {},
   "outputs": [],
   "source": [
    "# you will use your own link later\n",
    "linkGoogle='https://docs.google.com/spreadsheets/d/e/2PACX-1vQZiYnm5fKCIHCZR4yOqM8z9yPbgWfXRHwwfqdzOeHt67BO1-_20bGoUXeuKT2hG9kzsZXPJX6P1xdj/pub?output=xlsx'\n",
    "\n",
    "# get the data tables\n",
    "import pandas as pd\n",
    "myFile = pd.ExcelFile(linkGoogle)\n",
    "allComparissons={sheet:pd.read_excel(myFile, sheet, index_col=0)for sheet in myFile.sheet_names}\n",
    "\n",
    "# format the data for AHP\n",
    "import networkx as nx\n",
    "import numpy as np\n",
    "\n",
    "comparissonsDict=dict()\n",
    "for sheet in myFile.sheet_names:\n",
    "  aMatrix = nx.from_pandas_adjacency(allComparissons[sheet],create_using=nx.MultiDiGraph())\n",
    "  aDict={(e[0],e[1]):e[2]['weight'] for e in aMatrix.edges(data=True) if np.isfinite(e[2]['weight'])}\n",
    "  comparissonsDict.update({sheet:aDict})\n",
    "\n",
    "# use AHP\n",
    "import ahpy\n",
    "\n",
    "# create all comparissons\n",
    "AHP_Dict=dict()\n",
    "for sheet in myFile.sheet_names:\n",
    "  AHP_Dict.update({sheet:ahpy.Compare(sheet, comparissonsDict[sheet], precision=3, random_index='saaty')})\n",
    "\n",
    "# comparisson of alternatives below criteria (hierarchy building\n",
    "AHP_Dict['criteria'].add_children([ahp for sheet,ahp in AHP_Dict.items() if sheet!='criteria'])"
   ]
  },
  {
   "cell_type": "markdown",
   "id": "abeb487d-f786-43d7-9bb7-537def11f9ac",
   "metadata": {},
   "source": [
    "We can see which criterion was more valuable like this:"
   ]
  },
  {
   "cell_type": "code",
   "execution_count": null,
   "id": "94c0868c-4cb8-4c5a-b5b0-9a021cea9899",
   "metadata": {},
   "outputs": [],
   "source": [
    "print(AHP_Dict['criteria'].global_weights)"
   ]
  },
  {
   "cell_type": "markdown",
   "id": "a52aea13-35c5-435f-ae6d-39efbc9837bf",
   "metadata": {},
   "source": [
    "Now, you may know which is the best option:"
   ]
  },
  {
   "cell_type": "code",
   "execution_count": null,
   "id": "682cd65e-d81a-41f1-a16d-7bc8e8e40b6e",
   "metadata": {},
   "outputs": [],
   "source": [
    "print(AHP_Dict['criteria'].target_weights)"
   ]
  },
  {
   "cell_type": "markdown",
   "id": "a704404e-082e-4e35-8624-35a7ed43836a",
   "metadata": {},
   "source": [
    "The AHP algorithm assumes that when you are consistent when comparing; if get values above 0.10, you should review your comparisson matrices:"
   ]
  },
  {
   "cell_type": "code",
   "execution_count": null,
   "id": "83e645d4-7f16-4b5b-af1c-1b03422c7242",
   "metadata": {},
   "outputs": [],
   "source": [
    "{AHP_Dict[sheet].name:AHP_Dict[sheet].consistency_ratio for sheet in myFile.sheet_names}"
   ]
  }
 ],
 "metadata": {
  "kernelspec": {
   "display_name": "Python 3 (ipykernel)",
   "language": "python",
   "name": "python3"
  },
  "language_info": {
   "codemirror_mode": {
    "name": "ipython",
    "version": 3
   },
   "file_extension": ".py",
   "mimetype": "text/x-python",
   "name": "python",
   "nbconvert_exporter": "python",
   "pygments_lexer": "ipython3",
   "version": "3.10.16"
  }
 },
 "nbformat": 4,
 "nbformat_minor": 5
}
